{
 "cells": [
  {
   "cell_type": "code",
   "execution_count": null,
   "id": "7a7a44ce",
   "metadata": {},
   "outputs": [],
   "source": [
    "import sys\n",
    "import os\n",
    "sys.path.append(os.path.abspath('../src'))\n",
    "\n",
    "from preprocessing.preprocess import load_data, preprocess_data, split_data\n",
    "from utils.utils import save_scaler\n",
    "from models.xgboost_model import train_xgboost, evaluate_model, save_model\n",
    "\n",
    "# 1. Charger et prétraiter\n",
    "df = load_data(\"../data/transfusion.csv\")\n",
    "X_scaled, y, scaler = preprocess_data(df)\n",
    "X_train, X_test, y_train, y_test = split_data(X_scaled, y)\n",
    "\n",
    "# 2. Sauvegarder le scaler\n",
    "save_scaler(scaler, \"../data/scaler.pkl\")\n",
    "\n",
    "# 3. Entraîner le modèle\n",
    "model = train_xgboost(X_train, y_train)\n",
    "\n",
    "# 4. Évaluer le modèle\n",
    "evaluate_model(model, X_test, y_test)\n",
    "\n",
    "# 5. Sauvegarder le modèle\n",
    "save_model(model, \"../data/xgboost_model.pkl\")\n"
   ]
  }
 ],
 "metadata": {
  "language_info": {
   "name": "python"
  }
 },
 "nbformat": 4,
 "nbformat_minor": 5
}

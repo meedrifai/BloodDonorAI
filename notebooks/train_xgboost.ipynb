{
 "cells": [
  {
   "cell_type": "code",
   "execution_count": null,
   "id": "7a7a44ce",
   "metadata": {},
   "outputs": [
    {
     "ename": "ImportError",
     "evalue": "cannot import name 'tune_xgboost' from 'models.xgboost_model' (c:\\Users\\pc\\Documents\\Med\\BloodDonorAI\\src\\models\\xgboost_model.py)",
     "output_type": "error",
     "traceback": [
      "\u001b[31m---------------------------------------------------------------------------\u001b[39m",
      "\u001b[31mImportError\u001b[39m                               Traceback (most recent call last)",
      "\u001b[36mCell\u001b[39m\u001b[36m \u001b[39m\u001b[32mIn[9]\u001b[39m\u001b[32m, line 8\u001b[39m\n\u001b[32m      6\u001b[39m \u001b[38;5;28;01mfrom\u001b[39;00m\u001b[38;5;250m \u001b[39m\u001b[34;01mpreprocessing\u001b[39;00m\u001b[34;01m.\u001b[39;00m\u001b[34;01mpreprocess\u001b[39;00m\u001b[38;5;250m \u001b[39m\u001b[38;5;28;01mimport\u001b[39;00m load_data, preprocess_data, split_data, balance_data_with_smote\n\u001b[32m      7\u001b[39m \u001b[38;5;28;01mfrom\u001b[39;00m\u001b[38;5;250m \u001b[39m\u001b[34;01mutils\u001b[39;00m\u001b[34;01m.\u001b[39;00m\u001b[34;01mutils\u001b[39;00m\u001b[38;5;250m \u001b[39m\u001b[38;5;28;01mimport\u001b[39;00m save_scaler\n\u001b[32m----> \u001b[39m\u001b[32m8\u001b[39m \u001b[38;5;28;01mfrom\u001b[39;00m\u001b[38;5;250m \u001b[39m\u001b[34;01mmodels\u001b[39;00m\u001b[34;01m.\u001b[39;00m\u001b[34;01mxgboost_model\u001b[39;00m\u001b[38;5;250m \u001b[39m\u001b[38;5;28;01mimport\u001b[39;00m train_xgboost, evaluate_model, save_model, tune_xgboost\n\u001b[32m     10\u001b[39m \u001b[38;5;66;03m# 1. Charger et prétraiter\u001b[39;00m\n\u001b[32m     11\u001b[39m \u001b[38;5;28mprint\u001b[39m(\u001b[33m\"\u001b[39m\u001b[33mChargement et prétraitement des données...\u001b[39m\u001b[33m\"\u001b[39m)\n",
      "\u001b[31mImportError\u001b[39m: cannot import name 'tune_xgboost' from 'models.xgboost_model' (c:\\Users\\pc\\Documents\\Med\\BloodDonorAI\\src\\models\\xgboost_model.py)"
     ]
    }
   ],
   "source": [
    "# train_xgboost_tuned.py\n",
    "import sys\n",
    "import os\n",
    "sys.path.append(os.path.abspath('../src'))\n",
    "\n",
    "from preprocessing.preprocess import load_data, preprocess_data, split_data, balance_data_with_smote\n",
    "from utils.utils import save_scaler\n",
    "from models.xgboost_model import train_xgboost, evaluate_model, save_model, tune_xgboost\n",
    "\n",
    "# 1. Charger et prétraiter\n",
    "print(\"Chargement et prétraitement des données...\")\n",
    "df = load_data(\"../data/transfusion.csv\")\n",
    "X_scaled, y, scaler = preprocess_data(df)\n",
    "\n",
    "# 2. Équilibrer les données avec SMOTE\n",
    "print(\"\\nÉquilibrage des données avec SMOTE...\")\n",
    "X_balanced, y_balanced = balance_data_with_smote(X_scaled, y)\n",
    "\n",
    "# 3. Diviser les données équilibrées\n",
    "print(\"\\nDivision des données équilibrées...\")\n",
    "X_train, X_test, y_train, y_test = split_data(X_balanced, y_balanced)\n",
    "\n",
    "# 4. Sauvegarder le scaler\n",
    "save_scaler(scaler, \"../data/scaler.pkl\")\n",
    "\n",
    "# 5. Optimiser et entraîner le modèle avec GridSearchCV\n",
    "print(\"\\nOptimisation et entraînement du modèle XGBoost...\")\n",
    "best_model = tune_xgboost(X_train, y_train, cv=5)\n",
    "\n",
    "# 6. Évaluer le modèle optimisé\n",
    "print(\"\\nÉvaluation du modèle optimisé...\")\n",
    "evaluate_model(best_model, X_test, y_test)\n",
    "\n",
    "# 7. Sauvegarder le modèle optimisé\n",
    "print(\"\\nSauvegarde du modèle optimisé...\")\n",
    "save_model(best_model, \"../data/xgboost_model_tuned.pkl\")\n",
    "\n",
    "print(\"\\nProcessus terminé avec succès!\")"
   ]
  }
 ],
 "metadata": {
  "kernelspec": {
   "display_name": "Python 3",
   "language": "python",
   "name": "python3"
  },
  "language_info": {
   "codemirror_mode": {
    "name": "ipython",
    "version": 3
   },
   "file_extension": ".py",
   "mimetype": "text/x-python",
   "name": "python",
   "nbconvert_exporter": "python",
   "pygments_lexer": "ipython3",
   "version": "3.13.2"
  }
 },
 "nbformat": 4,
 "nbformat_minor": 5
}

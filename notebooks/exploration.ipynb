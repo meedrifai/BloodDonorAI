{
 "cells": [
  {
   "cell_type": "code",
   "execution_count": null,
   "id": "538a61bc",
   "metadata": {},
   "outputs": [],
   "source": [
    "import sys\n",
    "import os\n",
    "\n",
    "# Pour importer les modules\n",
    "sys.path.append(os.path.abspath('../src'))\n",
    "\n",
    "from preprocessing.preprocess import load_data, preprocess_data, split_data\n",
    "from utils.utils import save_scaler\n",
    "\n",
    "# Charger les données\n",
    "df = load_data(\"../data/transfusion.csv\")\n",
    "\n",
    "# Prétraitement\n",
    "X_scaled, y, scaler = preprocess_data(df)\n",
    "\n",
    "# Split\n",
    "X_train, X_test, y_train, y_test = split_data(X_scaled, y)\n",
    "\n",
    "# Sauvegarde du scaler\n",
    "save_scaler(scaler, path=\"../data/scaler.pkl\")\n",
    "\n",
    "# Petit aperçu\n",
    "print(f\"Train shape: {X_train.shape}\")\n",
    "print(f\"Test shape: {X_test.shape}\")\n"
   ]
  }
 ],
 "metadata": {
  "language_info": {
   "name": "python"
  }
 },
 "nbformat": 4,
 "nbformat_minor": 5
}
